{
 "cells": [
  {
   "cell_type": "markdown",
   "id": "74bfd560",
   "metadata": {},
   "source": [
    "## OOPS"
   ]
  },
  {
   "cell_type": "code",
   "execution_count": 6,
   "id": "967e83eb",
   "metadata": {},
   "outputs": [
    {
     "name": "stdout",
     "output_type": "stream",
     "text": [
      "white 5.11\n",
      "Running.....\n",
      "Walking.....\n"
     ]
    }
   ],
   "source": [
    "class Human:         #CLASS\n",
    "    color=\"white\"\n",
    "    height=5.11\n",
    "    def run(self):\n",
    "        print(\"Running.....\")\n",
    "    def walk(self):\n",
    "        print(\"Walking.....\")\n",
    "raja=Human()         #OBJECT\n",
    "print(raja.color,raja.height)\n",
    "raja.run()\n",
    "raja.walk()"
   ]
  },
  {
   "cell_type": "code",
   "execution_count": 20,
   "id": "1b099f82",
   "metadata": {},
   "outputs": [
    {
     "name": "stdout",
     "output_type": "stream",
     "text": [
      "white 5.6\n",
      "Fair 5.4\n",
      "Black 5.2\n",
      "raja Running.....\n",
      "sekhar Running.....\n",
      "shukur Walking.....\n"
     ]
    }
   ],
   "source": [
    "class Human:   #CLASS\n",
    "    def __init__(self,c,h):    # Constructor\n",
    "        self.color=c\n",
    "        self.height=h\n",
    "    def run(self,n):\n",
    "        print(n,\"Running.....\")\n",
    "    def walk(self,n):\n",
    "        print(n,\"Walking.....\")\n",
    "raja=Human(\"white\",5.6)  #OBJECT\n",
    "shukur=Human(\"Fair\",5.4)\n",
    "print(raja.color,raja.height)\n",
    "print(shukur.color,shukur.height)\n",
    "sekhar=Human(\"Black\",5.2)\n",
    "print(sekhar.color,sekhar.height)\n",
    "raja.run(\"raja\")\n",
    "sekhar.run(\"sekhar\")\n",
    "shukur.walk(\"shukur\")"
   ]
  },
  {
   "cell_type": "code",
   "execution_count": 27,
   "id": "7f3e5a9a",
   "metadata": {},
   "outputs": [
    {
     "name": "stdout",
     "output_type": "stream",
     "text": [
      "10 20\n",
      "Base Class\n",
      "30 40\n",
      "Derived Class\n"
     ]
    }
   ],
   "source": [
    "class BaseClass:\n",
    "    a=10\n",
    "    b=20\n",
    "    def display(self):\n",
    "        print(\"Base Class\")\n",
    "class DerivedClass:\n",
    "    c=30\n",
    "    d=40\n",
    "    def show(self):\n",
    "        print(\"Derived Class\")\n",
    "bobject=BaseClass()\n",
    "print(bobject.a,bobject.b)\n",
    "bobject.display()\n",
    "dobject=DerivedClass()\n",
    "print(dobject.c,dobject.d)\n",
    "dobject.show()"
   ]
  },
  {
   "cell_type": "code",
   "execution_count": 31,
   "id": "026612f7",
   "metadata": {},
   "outputs": [
    {
     "name": "stdout",
     "output_type": "stream",
     "text": [
      "10 20\n",
      "Base Class\n",
      "30 40\n",
      "Derived Class\n"
     ]
    }
   ],
   "source": [
    "# Single Inheritance\n",
    "class BaseClass:      #ParentClass\n",
    "    a=10\n",
    "    b=20\n",
    "    def display(self):\n",
    "        print(\"Base Class\")\n",
    "class DerivedClass(BaseClass):  #ChildClass\n",
    "    c=30\n",
    "    d=40\n",
    "    def show(self):\n",
    "        print(\"Derived Class\")\n",
    "dobject=DerivedClass()\n",
    "print(dobject.a,dobject.b)\n",
    "dobject.display()\n",
    "print(dobject.c,dobject.d)\n",
    "dobject.show()"
   ]
  },
  {
   "cell_type": "code",
   "execution_count": 40,
   "id": "44fc0fa9",
   "metadata": {},
   "outputs": [
    {
     "name": "stdout",
     "output_type": "stream",
     "text": [
      "GrandParent dispaly\n"
     ]
    }
   ],
   "source": [
    "# Multilevel Inheritance\n",
    "class GrandParent:\n",
    "    def gpdisplay(self):\n",
    "        print(\"GrandParent dispaly\")\n",
    "class Parent(GrandParent):\n",
    "    def pdisplay(self):\n",
    "        print(\"Parent display\")\n",
    "class Child(Parent):\n",
    "    def cdisplay(self):\n",
    "        print(\"Child dispaly\")\n",
    "\"\"\"c=Child()\n",
    "c.cdisplay()\n",
    "c.pdisplay()\n",
    "c.gpdisplay()\"\"\"\n",
    "\n",
    "\"\"\"p=Parent()\n",
    "p.pdisplay()\n",
    "p.gpdisplay()\"\"\"\n",
    "\n",
    "\n",
    "gp=GrandParent()\n",
    "gp.gpdisplay()"
   ]
  },
  {
   "cell_type": "code",
   "execution_count": 49,
   "id": "0905b506",
   "metadata": {},
   "outputs": [
    {
     "name": "stdout",
     "output_type": "stream",
     "text": [
      "Son Calss\n",
      "Parent Class\n",
      "Daughter Class\n",
      "Parent Class\n",
      "Parent Class\n"
     ]
    }
   ],
   "source": [
    "# Hierarchial Inheritance\n",
    "class Parent:\n",
    "    def pdisplay(self):\n",
    "        print(\"Parent Class\")\n",
    "class Son(Parent):\n",
    "    def sdisplay(self):\n",
    "        print(\"Son Calss\")\n",
    "class Daughter(Parent):\n",
    "    def ddisplay(self):\n",
    "        print(\"Daughter Class\")\n",
    "\n",
    "s=Son()\n",
    "s.sdisplay()\n",
    "s.pdisplay()\n",
    "\n",
    "d=Daughter()\n",
    "d.ddisplay()\n",
    "d.pdisplay()\n",
    "\n",
    "p=Parent()\n",
    "p.pdisplay()"
   ]
  },
  {
   "cell_type": "code",
   "execution_count": 53,
   "id": "5b3180aa",
   "metadata": {},
   "outputs": [
    {
     "name": "stdout",
     "output_type": "stream",
     "text": [
      "CHild Dispaly\n",
      "Mother display\n",
      "Father Class\n"
     ]
    }
   ],
   "source": [
    "# Multiple Inheritance\n",
    "\n",
    "class Father:\n",
    "    def fdisplay(self):\n",
    "        print(\"Father Class\")\n",
    "class Mother:\n",
    "    def mdisplay(self):\n",
    "        print(\"Mother display\")\n",
    "class Child(Father,Mother):\n",
    "    def cdisplay(self):\n",
    "        print(\"CHild Dispaly\")\n",
    "        \n",
    "c=Child()\n",
    "c.cdisplay()\n",
    "c.mdisplay()\n",
    "c.fdisplay()"
   ]
  },
  {
   "cell_type": "code",
   "execution_count": 59,
   "id": "2a1bdc12",
   "metadata": {},
   "outputs": [
    {
     "name": "stdout",
     "output_type": "stream",
     "text": [
      "1400\n",
      "1100\n",
      "1500\n"
     ]
    }
   ],
   "source": [
    "# Method Overloading\n",
    "class Demo:\n",
    "    def add(self,a,b=400,c=800):\n",
    "        print(a+b+c)\n",
    "obj=Demo()\n",
    "obj.add(200)\n",
    "obj.add(100,200)\n",
    "obj.add(400,500,600)"
   ]
  },
  {
   "cell_type": "code",
   "execution_count": 62,
   "id": "768fb506",
   "metadata": {},
   "outputs": [
    {
     "name": "stdout",
     "output_type": "stream",
     "text": [
      "BIKE\n"
     ]
    }
   ],
   "source": [
    "# method overriding\n",
    "class Parent:\n",
    "    def transport(self):\n",
    "        print(\"CYCLE\")\n",
    "class Child(Parent):\n",
    "    def transport(self):\n",
    "        print(\"BIKE\")\n",
    "c=Child()\n",
    "c.transport()"
   ]
  },
  {
   "cell_type": "code",
   "execution_count": null,
   "id": "b223e1c1",
   "metadata": {},
   "outputs": [],
   "source": []
  }
 ],
 "metadata": {
  "kernelspec": {
   "display_name": "Python 3",
   "language": "python",
   "name": "python3"
  },
  "language_info": {
   "codemirror_mode": {
    "name": "ipython",
    "version": 3
   },
   "file_extension": ".py",
   "mimetype": "text/x-python",
   "name": "python",
   "nbconvert_exporter": "python",
   "pygments_lexer": "ipython3",
   "version": "3.8.8"
  }
 },
 "nbformat": 4,
 "nbformat_minor": 5
}
